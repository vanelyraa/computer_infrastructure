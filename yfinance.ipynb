{
 "cells": [
  {
   "cell_type": "markdown",
   "id": "cd84c945",
   "metadata": {},
   "source": [
    "# yFinance\n",
    "\n",
    "https://github.com/ranaroussi/yfinance\n"
   ]
  },
  {
   "cell_type": "code",
   "execution_count": null,
   "id": "fca5ea82",
   "metadata": {},
   "outputs": [],
   "source": [
    " # Yahoo Finance data.\n",
    "import yfinance as yf"
   ]
  },
  {
   "cell_type": "code",
   "execution_count": null,
   "id": "35cfd6c7",
   "metadata": {},
   "outputs": [],
   "source": []
  },
  {
   "cell_type": "markdown",
   "id": "67dfa8f5",
   "metadata": {},
   "source": [
    "## End"
   ]
  }
 ],
 "metadata": {
  "kernelspec": {
   "display_name": "Python 3",
   "language": "python",
   "name": "python3"
  },
  "language_info": {
   "name": "python",
   "version": "3.12.1"
  }
 },
 "nbformat": 4,
 "nbformat_minor": 5
}
