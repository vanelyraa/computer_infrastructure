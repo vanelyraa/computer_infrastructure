{
 "cells": [
  {
   "cell_type": "markdown",
   "id": "ca2ad115",
   "metadata": {},
   "source": [
    "# **Assessment Problems**"
   ]
  },
  {
   "cell_type": "markdown",
   "id": "5eb1fd07",
   "metadata": {},
   "source": [
    "## Data from yfinance"
   ]
  },
  {
   "cell_type": "markdown",
   "id": "179ffb69",
   "metadata": {},
   "source": [
    "Using the yfinance Python package, write a function called get_data() that downloads all hourly data for the previous five days for the five FAANG stocks: Facebook (META) Apple (AAPL) Amazon (AMZN) Netflix (NFLX) Google (GOOG) The function should save the data into a folder called data in the root of your repository using a filename with the format YYYYMMDD-HHmmss.csv where YYYYMMDD is the four-digit year (e.g. 2025), followed by the two-digit month (e.g. 09 for September), followed by the two digit day, and HHmmss is hour, minutes, seconds."
   ]
  },
  {
   "cell_type": "markdown",
   "id": "14ad0231",
   "metadata": {},
   "source": [
    "Imports"
   ]
  },
  {
   "cell_type": "code",
   "execution_count": 5,
   "id": "709eb8b1",
   "metadata": {},
   "outputs": [],
   "source": [
    "import yfinance as yf # Yahoo Finance data.\n",
    "import pandas as pd # Pandas library\n",
    "import os\n",
    "from datetime import datetime"
   ]
  },
  {
   "cell_type": "code",
   "execution_count": 6,
   "id": "a4734bda",
   "metadata": {},
   "outputs": [
    {
     "name": "stderr",
     "output_type": "stream",
     "text": [
      "/tmp/ipykernel_22748/1204430983.py:12: FutureWarning: YF.download() has changed argument auto_adjust default to True\n",
      "  period_data = yf.download(ticker, period='5d', interval='1h')\n",
      "[*********************100%***********************]  1 of 1 completed\n",
      "/tmp/ipykernel_22748/1204430983.py:12: FutureWarning: YF.download() has changed argument auto_adjust default to True\n",
      "  period_data = yf.download(ticker, period='5d', interval='1h')\n",
      "[*********************100%***********************]  1 of 1 completed\n",
      "/tmp/ipykernel_22748/1204430983.py:12: FutureWarning: YF.download() has changed argument auto_adjust default to True\n",
      "  period_data = yf.download(ticker, period='5d', interval='1h')\n",
      "[*********************100%***********************]  1 of 1 completed\n",
      "/tmp/ipykernel_22748/1204430983.py:12: FutureWarning: YF.download() has changed argument auto_adjust default to True\n",
      "  period_data = yf.download(ticker, period='5d', interval='1h')\n",
      "[*********************100%***********************]  1 of 1 completed\n",
      "/tmp/ipykernel_22748/1204430983.py:12: FutureWarning: YF.download() has changed argument auto_adjust default to True\n",
      "  period_data = yf.download(ticker, period='5d', interval='1h')\n",
      "[*********************100%***********************]  1 of 1 completed"
     ]
    },
    {
     "name": "stdout",
     "output_type": "stream",
     "text": [
      "Saved to data/20251018-204222.csv\n"
     ]
    },
    {
     "name": "stderr",
     "output_type": "stream",
     "text": [
      "\n"
     ]
    }
   ],
   "source": [
    "def get_data(): #Defining function\n",
    "    #List with the five stock tickers\n",
    "    tickers = ['META', 'AAPL', 'AMZN', 'NFLX', 'GOOG'] \n",
    "\n",
    "    # Storing data from each company\n",
    "    stocks_data = []\n",
    "\n",
    "    # Looping through tickers\n",
    "    for ticker in tickers:\n",
    "        \n",
    "        # Fetching data with custom interval, hourly data, previous five days\n",
    "        period_data = yf.download(ticker, period='5d', interval='1h')\n",
    "\n",
    "         # Adding a new column to the data with company name\n",
    "        period_data['Ticker'] = ticker\n",
    "\n",
    "        # Converting datetime from an index to a column, for better visualization\n",
    "        period_data.reset_index(inplace=True)\n",
    "\n",
    "        # Adding each company's stock data to variable period_data\n",
    "        stocks_data.append(period_data)\n",
    "\n",
    "    # Combining fetched data into one\n",
    "    all_data = pd.concat(stocks_data)\n",
    "\n",
    "    # Getting current time for file with required format YYYYMMDD-HHmmss\n",
    "    curr_time = datetime.now().strftime('%Y%m%d-%H%M%S')\n",
    "   \n",
    "    # Creating file with .csv extension\n",
    "    csv_filename = f\"{curr_time}.csv\"    \n",
    "\n",
    "    # Saving file to folder called data\n",
    "    all_data.to_csv('data/' + csv_filename, index=False)\n",
    "\n",
    "    # Printing message to user\n",
    "    print(\"Saved to data/\" + csv_filename)\n",
    "\n",
    "# Run the function\n",
    "get_data()"
   ]
  },
  {
   "cell_type": "markdown",
   "id": "f2d9a221",
   "metadata": {},
   "source": [
    "https://github.com/ranaroussi/yfinance\n",
    "https://www.geeksforgeeks.org/python/getting-stock-symbols-with-yfinance-in-python/ #Fetching multiple tickers with list\n",
    "https://medium.com/@kasperjuunge/yfinance-10-ways-to-get-stock-data-with-python-6677f49e8282 #how to download periodic data\n",
    "https://www.geeksforgeeks.org/python/getting-stock-symbols-with-yfinance-in-python/ #Custom interval\n",
    "https://huggingface.co/Adilbai/stock-trading-rl-agent/blob/27f177526bebcc8cc49daa4cd66566d360feae0d/dataprocessor.py #Inspiration code\n",
    "https://www.geeksforgeeks.org/python/how-to-create-filename-containing-date-or-time-in-python/ #Creating file with format "
   ]
  },
  {
   "cell_type": "markdown",
   "id": "6f1a3580",
   "metadata": {},
   "source": [
    "## Plotting Data"
   ]
  },
  {
   "cell_type": "markdown",
   "id": "d20a81b2",
   "metadata": {},
   "source": []
  },
  {
   "cell_type": "code",
   "execution_count": null,
   "id": "8dfbe254",
   "metadata": {},
   "outputs": [],
   "source": []
  },
  {
   "cell_type": "markdown",
   "id": "c8836a86",
   "metadata": {},
   "source": [
    "## Script"
   ]
  },
  {
   "cell_type": "markdown",
   "id": "1d690238",
   "metadata": {},
   "source": []
  },
  {
   "cell_type": "code",
   "execution_count": null,
   "id": "c02fed6a",
   "metadata": {},
   "outputs": [],
   "source": []
  },
  {
   "cell_type": "markdown",
   "id": "f0f1e56e",
   "metadata": {},
   "source": [
    "## Automation"
   ]
  },
  {
   "cell_type": "markdown",
   "id": "13f68709",
   "metadata": {},
   "source": []
  },
  {
   "cell_type": "code",
   "execution_count": null,
   "id": "ae28c009",
   "metadata": {},
   "outputs": [],
   "source": []
  },
  {
   "cell_type": "markdown",
   "id": "efbdccc3",
   "metadata": {},
   "source": [
    "## End"
   ]
  }
 ],
 "metadata": {
  "kernelspec": {
   "display_name": "Python 3",
   "language": "python",
   "name": "python3"
  },
  "language_info": {
   "codemirror_mode": {
    "name": "ipython",
    "version": 3
   },
   "file_extension": ".py",
   "mimetype": "text/x-python",
   "name": "python",
   "nbconvert_exporter": "python",
   "pygments_lexer": "ipython3",
   "version": "3.12.1"
  }
 },
 "nbformat": 4,
 "nbformat_minor": 5
}
